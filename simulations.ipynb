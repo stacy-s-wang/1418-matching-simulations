{
 "cells": [
  {
   "cell_type": "code",
   "execution_count": null,
   "metadata": {},
   "outputs": [],
   "source": [
    "from objects import Dorm, Student\n",
    "from functions import sodaa, check_stability, overall_utility, mecha, mechb, mechc, linear_swf, quadratic_swf\n",
    "import math\n",
    "import random\n",
    "import numpy as np\n",
    "import matplotlib.pyplot as plt\n",
    "import seaborn as sns\n",
    "import pandas as pd"
   ]
  },
  {
   "cell_type": "markdown",
   "metadata": {},
   "source": [
    "Process simulation results! We have 3 levels of indifferences (0.2, 0.5, 0.8), and for each, we have 5 different simulated preferences of both dorms and students. Each \"configuration\" was run 500 times, and the 5 number summary. mean, and std for both linear and quadratic social welfare functions were recorded. (Should have 15 csvs of shape (500,49), or 3 csvs of (2500, 49))."
   ]
  },
  {
   "cell_type": "markdown",
   "metadata": {},
   "source": [
    "Graphs to plot: histograms for each, line plots for each mechanism with the 5 configs, each with 3 colors to signify low medium high indiff"
   ]
  },
  {
   "cell_type": "code",
   "execution_count": null,
   "metadata": {},
   "outputs": [],
   "source": [
    "# import results of simulation\n",
    "cols = ['config', \n",
    "        'lin_sw_a', 'lin_min_a', 'lin_q1_a', 'lin_q2_a', 'lin_q3_a', 'lin_max_a', 'lin_mean_a', 'lin_std_a',\n",
    "        'quad_sw_a', 'quad_min_a', 'quad_q1_a', 'quad_q2_a', 'quad_q3_a', 'quad_max_a', 'quad_mean_a', 'quad_std_a',\n",
    "        'lin_sw_b', 'lin_min_b', 'lin_q1_b', 'lin_q2_b', 'lin_q3_b', 'lin_max_b', 'lin_mean_b', 'lin_std_b',\n",
    "        'quad_sw_b', 'quad_min_b', 'quad_q1_b', 'quad_q2_b', 'quad_q3_b', 'quad_max_b', 'quad_mean_b', 'quad_std_b',\n",
    "        'lin_sw_c', 'lin_min_c', 'lin_q1_c', 'lin_q2_c', 'lin_q3_c', 'lin_max_c', 'lin_mean_c', 'lin_std_c',\n",
    "        'quad_sw_c', 'quad_min_c', 'quad_q1_c', 'quad_q2_c', 'quad_q3_c', 'quad_max_c', 'quad_mean_c', 'quad_std_c']\n",
    "\n",
    "highindiff = pd.read_csv('./results/simulation_indiff_0.2.csv', header = None, names = cols, nrows = 2500)\n",
    "medindiff  = pd.read_csv('./results/simulation_indiff_0.5.csv', header = None, names = cols, nrows = 2500)\n",
    "lowindiff  = pd.read_csv('./results/simulation_indiff_0.8.csv', header = None, names = cols, nrows = 2500)"
   ]
  },
  {
   "cell_type": "code",
   "execution_count": 114,
   "metadata": {},
   "outputs": [],
   "source": [
    "# I want prettier plots\n",
    "plt.style.use('ggplot')\n",
    "colors = ['#A9A9A9','#5CF0F0', '#80C3CF', '#7FCC9F','#265981'] # blue green pink purple gray\n",
    "plt.rcParams['axes.prop_cycle'] = plt.cycler(color=colors)\n",
    "sns.set(font='Arial')\n",
    "\n",
    "%matplotlib inline"
   ]
  },
  {
   "cell_type": "markdown",
   "metadata": {},
   "source": [
    "Let's take a look at the expected welfare for each (mech,config) pair for each indifference level."
   ]
  },
  {
   "cell_type": "code",
   "execution_count": 102,
   "metadata": {},
   "outputs": [],
   "source": [
    "high_lin_mean  = highindiff.groupby('config').mean().reset_index()[['config','lin_sw_a', 'lin_min_a', 'lin_sw_b', 'lin_min_b', 'lin_sw_c', 'lin_min_c']]\n",
    "high_quad_mean = highindiff.groupby('config').mean().reset_index()[['config','quad_sw_a', 'quad_min_a', 'quad_sw_b', 'quad_min_b', 'quad_sw_c', 'quad_min_c']]\n",
    "med_lin_mean   = medindiff.groupby('config').mean().reset_index()[['config','lin_sw_a', 'lin_min_a', 'lin_sw_b', 'lin_min_b', 'lin_sw_c', 'lin_min_c']]\n",
    "med_quad_mean  = medindiff.groupby('config').mean().reset_index()[['config','quad_sw_a', 'quad_min_a', 'quad_sw_b', 'quad_min_b', 'quad_sw_c', 'quad_min_c']]\n",
    "low_lin_mean   = lowindiff.groupby('config').mean().reset_index()[['config','lin_sw_a', 'lin_min_a', 'lin_sw_b', 'lin_min_b', 'lin_sw_c', 'lin_min_c']]\n",
    "low_quad_mean  = lowindiff.groupby('config').mean().reset_index()[['config','quad_sw_a', 'quad_min_a', 'quad_sw_b', 'quad_min_b', 'quad_sw_c', 'quad_min_c']]"
   ]
  },
  {
   "cell_type": "code",
   "execution_count": 128,
   "metadata": {},
   "outputs": [],
   "source": [
    "high_lin_median  = highindiff.groupby('config').median().reset_index()[['config','lin_sw_a', 'lin_min_a', 'lin_sw_b', 'lin_min_b', 'lin_sw_c', 'lin_min_c']]\n",
    "high_quad_median = highindiff.groupby('config').median().reset_index()[['config','quad_sw_a', 'quad_min_a', 'quad_sw_b', 'quad_min_b', 'quad_sw_c', 'quad_min_c']]\n",
    "med_lin_median   = medindiff.groupby('config').median().reset_index()[['config','lin_sw_a', 'lin_min_a', 'lin_sw_b', 'lin_min_b', 'lin_sw_c', 'lin_min_c']]\n",
    "med_quad_median  = medindiff.groupby('config').median().reset_index()[['config','quad_sw_a', 'quad_min_a', 'quad_sw_b', 'quad_min_b', 'quad_sw_c', 'quad_min_c']]\n",
    "low_lin_median   = lowindiff.groupby('config').median().reset_index()[['config','lin_sw_a', 'lin_min_a', 'lin_sw_b', 'lin_min_b', 'lin_sw_c', 'lin_min_c']]\n",
    "low_quad_median  = lowindiff.groupby('config').median().reset_index()[['config','quad_sw_a', 'quad_min_a', 'quad_sw_b', 'quad_min_b', 'quad_sw_c', 'quad_min_c']]"
   ]
  },
  {
   "cell_type": "code",
   "execution_count": 129,
   "metadata": {},
   "outputs": [
    {
     "data": {
      "text/html": [
       "<div>\n",
       "<style scoped>\n",
       "    .dataframe tbody tr th:only-of-type {\n",
       "        vertical-align: middle;\n",
       "    }\n",
       "\n",
       "    .dataframe tbody tr th {\n",
       "        vertical-align: top;\n",
       "    }\n",
       "\n",
       "    .dataframe thead th {\n",
       "        text-align: right;\n",
       "    }\n",
       "</style>\n",
       "<table border=\"1\" class=\"dataframe\">\n",
       "  <thead>\n",
       "    <tr style=\"text-align: right;\">\n",
       "      <th></th>\n",
       "      <th>config</th>\n",
       "      <th>lin_sw_a</th>\n",
       "      <th>lin_min_a</th>\n",
       "      <th>lin_sw_b</th>\n",
       "      <th>lin_min_b</th>\n",
       "      <th>lin_sw_c</th>\n",
       "      <th>lin_min_c</th>\n",
       "    </tr>\n",
       "  </thead>\n",
       "  <tbody>\n",
       "    <tr>\n",
       "      <th>0</th>\n",
       "      <td>0.0</td>\n",
       "      <td>14790.472</td>\n",
       "      <td>8.0</td>\n",
       "      <td>14790.528</td>\n",
       "      <td>8.0</td>\n",
       "      <td>14790.480</td>\n",
       "      <td>8.0</td>\n",
       "    </tr>\n",
       "    <tr>\n",
       "      <th>1</th>\n",
       "      <td>1.0</td>\n",
       "      <td>14806.476</td>\n",
       "      <td>7.0</td>\n",
       "      <td>14806.542</td>\n",
       "      <td>7.0</td>\n",
       "      <td>14806.386</td>\n",
       "      <td>7.0</td>\n",
       "    </tr>\n",
       "    <tr>\n",
       "      <th>2</th>\n",
       "      <td>2.0</td>\n",
       "      <td>14869.000</td>\n",
       "      <td>6.0</td>\n",
       "      <td>14869.000</td>\n",
       "      <td>6.0</td>\n",
       "      <td>14869.000</td>\n",
       "      <td>6.0</td>\n",
       "    </tr>\n",
       "    <tr>\n",
       "      <th>3</th>\n",
       "      <td>3.0</td>\n",
       "      <td>14823.524</td>\n",
       "      <td>7.0</td>\n",
       "      <td>14823.444</td>\n",
       "      <td>7.0</td>\n",
       "      <td>14823.000</td>\n",
       "      <td>7.0</td>\n",
       "    </tr>\n",
       "    <tr>\n",
       "      <th>4</th>\n",
       "      <td>4.0</td>\n",
       "      <td>14799.270</td>\n",
       "      <td>6.0</td>\n",
       "      <td>14799.468</td>\n",
       "      <td>6.0</td>\n",
       "      <td>14799.386</td>\n",
       "      <td>6.0</td>\n",
       "    </tr>\n",
       "  </tbody>\n",
       "</table>\n",
       "</div>"
      ],
      "text/plain": [
       "   config   lin_sw_a  lin_min_a   lin_sw_b  lin_min_b   lin_sw_c  lin_min_c\n",
       "0     0.0  14790.472        8.0  14790.528        8.0  14790.480        8.0\n",
       "1     1.0  14806.476        7.0  14806.542        7.0  14806.386        7.0\n",
       "2     2.0  14869.000        6.0  14869.000        6.0  14869.000        6.0\n",
       "3     3.0  14823.524        7.0  14823.444        7.0  14823.000        7.0\n",
       "4     4.0  14799.270        6.0  14799.468        6.0  14799.386        6.0"
      ]
     },
     "execution_count": 129,
     "metadata": {},
     "output_type": "execute_result"
    }
   ],
   "source": [
    "med_lin_mean"
   ]
  },
  {
   "cell_type": "code",
   "execution_count": 126,
   "metadata": {},
   "outputs": [
    {
     "data": {
      "text/html": [
       "<div>\n",
       "<style scoped>\n",
       "    .dataframe tbody tr th:only-of-type {\n",
       "        vertical-align: middle;\n",
       "    }\n",
       "\n",
       "    .dataframe tbody tr th {\n",
       "        vertical-align: top;\n",
       "    }\n",
       "\n",
       "    .dataframe thead th {\n",
       "        text-align: right;\n",
       "    }\n",
       "</style>\n",
       "<table border=\"1\" class=\"dataframe\">\n",
       "  <thead>\n",
       "    <tr style=\"text-align: right;\">\n",
       "      <th></th>\n",
       "      <th>config</th>\n",
       "      <th>quad_sw_a</th>\n",
       "      <th>quad_min_a</th>\n",
       "      <th>quad_sw_b</th>\n",
       "      <th>quad_min_b</th>\n",
       "      <th>quad_sw_c</th>\n",
       "      <th>quad_min_c</th>\n",
       "    </tr>\n",
       "  </thead>\n",
       "  <tbody>\n",
       "    <tr>\n",
       "      <th>0</th>\n",
       "      <td>0.0</td>\n",
       "      <td>146411.000</td>\n",
       "      <td>49.00</td>\n",
       "      <td>146411.000</td>\n",
       "      <td>49.00</td>\n",
       "      <td>146411.000</td>\n",
       "      <td>49.0</td>\n",
       "    </tr>\n",
       "    <tr>\n",
       "      <th>1</th>\n",
       "      <td>1.0</td>\n",
       "      <td>147987.382</td>\n",
       "      <td>56.71</td>\n",
       "      <td>147983.686</td>\n",
       "      <td>56.71</td>\n",
       "      <td>147969.016</td>\n",
       "      <td>49.0</td>\n",
       "    </tr>\n",
       "    <tr>\n",
       "      <th>2</th>\n",
       "      <td>2.0</td>\n",
       "      <td>146590.138</td>\n",
       "      <td>49.00</td>\n",
       "      <td>146583.490</td>\n",
       "      <td>49.00</td>\n",
       "      <td>146570.668</td>\n",
       "      <td>49.0</td>\n",
       "    </tr>\n",
       "    <tr>\n",
       "      <th>3</th>\n",
       "      <td>3.0</td>\n",
       "      <td>147324.140</td>\n",
       "      <td>64.00</td>\n",
       "      <td>147329.744</td>\n",
       "      <td>64.00</td>\n",
       "      <td>147338.020</td>\n",
       "      <td>64.0</td>\n",
       "    </tr>\n",
       "    <tr>\n",
       "      <th>4</th>\n",
       "      <td>4.0</td>\n",
       "      <td>147098.582</td>\n",
       "      <td>49.00</td>\n",
       "      <td>147094.140</td>\n",
       "      <td>49.00</td>\n",
       "      <td>147097.300</td>\n",
       "      <td>49.0</td>\n",
       "    </tr>\n",
       "  </tbody>\n",
       "</table>\n",
       "</div>"
      ],
      "text/plain": [
       "   config   quad_sw_a  quad_min_a   quad_sw_b  quad_min_b   quad_sw_c  \\\n",
       "0     0.0  146411.000       49.00  146411.000       49.00  146411.000   \n",
       "1     1.0  147987.382       56.71  147983.686       56.71  147969.016   \n",
       "2     2.0  146590.138       49.00  146583.490       49.00  146570.668   \n",
       "3     3.0  147324.140       64.00  147329.744       64.00  147338.020   \n",
       "4     4.0  147098.582       49.00  147094.140       49.00  147097.300   \n",
       "\n",
       "   quad_min_c  \n",
       "0        49.0  \n",
       "1        49.0  \n",
       "2        49.0  \n",
       "3        64.0  \n",
       "4        49.0  "
      ]
     },
     "execution_count": 126,
     "metadata": {},
     "output_type": "execute_result"
    }
   ],
   "source": [
    "high_quad_mean"
   ]
  },
  {
   "cell_type": "markdown",
   "metadata": {},
   "source": [
    "Here we plot the expected welfare values."
   ]
  },
  {
   "cell_type": "code",
   "execution_count": 123,
   "metadata": {},
   "outputs": [
    {
     "data": {
      "image/png": "[encoded data removed]",
      "text/plain": [
       "<Figure size 432x288 with 1 Axes>"
      ]
     },
     "metadata": {
      "needs_background": "light"
     },
     "output_type": "display_data"
    }
   ],
   "source": [
    "colors = ['#A9A9A9', '#265981', '#80C3CF']\n",
    "plt.plot(high_lin_mean['config'], np.log(high_lin_mean['lin_sw_a']), color = colors[0], label='A')\n",
    "plt.plot(high_lin_mean['config'], np.log(high_lin_mean['lin_sw_b']), color = colors[1], label='B')\n",
    "plt.plot(high_lin_mean['config'], np.log(high_lin_mean['lin_sw_c']), color = colors[2], label='C')\n",
    "plt.legend()\n",
    "plt.show()"
   ]
  },
  {
   "cell_type": "code",
   "execution_count": 125,
   "metadata": {},
   "outputs": [
    {
     "data": {
      "image/png": "[encoded data removed]",
      "text/plain": [
       "<Figure size 432x288 with 1 Axes>"
      ]
     },
     "metadata": {
      "needs_background": "light"
     },
     "output_type": "display_data"
    }
   ],
   "source": [
    "colors = ['#A9A9A9', '#265981', '#80C3CF']\n",
    "plt.plot(high_quad_mean['config'], np.log(high_quad_mean['quad_sw_a']), color = colors[0], label='A')\n",
    "plt.plot(high_quad_mean['config'], np.log(high_quad_mean['quad_sw_b']), color = colors[1], label='B')\n",
    "plt.plot(high_quad_mean['config'], np.log(high_quad_mean['quad_sw_b']), color = colors[2], label='C')\n",
    "plt.legend()\n",
    "plt.show()"
   ]
  },
  {
   "cell_type": "markdown",
   "metadata": {},
   "source": [
    "Now, plot histograms of linear and quadratic welfare values"
   ]
  },
  {
   "cell_type": "code",
   "execution_count": null,
   "metadata": {},
   "outputs": [],
   "source": [
    "labels = ['Mechanism A', 'Mechanism B', 'Mechanism C']\n",
    "colors = ['#A9A9A9', '#265981', '#80C3CF']\n",
    "for i in range(5):\n",
    "    fig, axs = plt.subplots(nrows=3, figsize=(6,7), sharex=True)\n",
    "    lin_high_a = sns.histplot(highindiff.iloc[500*i:500*(i+1)]['lin_sw_a'], color='#A9A9A9', kde=True, ax = axs[0], label=labels[0])\n",
    "    lin_high_a.ticklabel_format(useOffset=False)\n",
    "    lin_high_b = sns.histplot(highindiff.iloc[500*i:500*(i+1)]['lin_sw_b'], color='#265981', kde=True, ax = axs[1], label=labels[1])\n",
    "    lin_high_b.ticklabel_format(useOffset=False)\n",
    "    lin_high_c = sns.histplot(highindiff.iloc[500*i:500*(i+1)]['lin_sw_c'], color='#80C3CF', kde=True, ax = axs[2], label=labels[2])\n",
    "    lin_high_c.ticklabel_format(useOffset=False)\n",
    "    lin_high_c.set(xlabel=f'Linear Welfare (Configuration {i+1})')\n",
    "    for i,ax in enumerate(axs):\n",
    "        axs[i].legend(loc=\"upper right\")\n",
    "    plt.tight_layout()\n",
    "    lin_high_a.set_title('High Indifference, 500 Matchings\\n(N=1500, M=10)')\n"
   ]
  },
  {
   "cell_type": "code",
   "execution_count": null,
   "metadata": {},
   "outputs": [],
   "source": [
    "labels = ['Mechanism A', 'Mechanism B', 'Mechanism C']\n",
    "colors = ['#A9A9A9', '#265981', '#80C3CF']\n",
    "for i in range(5):\n",
    "    fig, axs = plt.subplots(nrows=3, figsize=(6,7), sharex=True)\n",
    "    lin_high_a = sns.histplot(medindiff.iloc[500*i:500*(i+1)]['lin_sw_a'], color='#A9A9A9', ax = axs[0], label=labels[0])\n",
    "    lin_high_a.ticklabel_format(useOffset=False)\n",
    "    lin_high_b = sns.histplot(medindiff.iloc[500*i:500*(i+1)]['lin_sw_b'], color='#265981', ax = axs[1], label=labels[1])\n",
    "    lin_high_b.ticklabel_format(useOffset=False)\n",
    "    lin_high_c = sns.histplot(medindiff.iloc[500*i:500*(i+1)]['lin_sw_c'], color='#80C3CF', ax = axs[2], label=labels[2])\n",
    "    lin_high_c.ticklabel_format(useOffset=False)\n",
    "    lin_high_c.set(xlabel=f'Linear Welfare (Configuration {i+1})')\n",
    "    for i,ax in enumerate(axs):\n",
    "        axs[i].legend(loc=\"upper right\")\n",
    "    plt.tight_layout()\n",
    "    lin_high_a.set_title('Medium Indifference, 500 Matchings\\n(N=1500, M=10)')"
   ]
  },
  {
   "cell_type": "code",
   "execution_count": null,
   "metadata": {},
   "outputs": [],
   "source": [
    "labels = ['Mechanism A', 'Mechanism B', 'Mechanism C']\n",
    "colors = ['#A9A9A9', '#265981', '#80C3CF']\n",
    "for i in range(5):\n",
    "    fig, axs = plt.subplots(nrows=3, figsize=(6,7), sharex=True)\n",
    "    lin_high_a = sns.histplot(lowindiff.iloc[500*i:500*(i+1)]['lin_sw_a'], color='#A9A9A9', ax = axs[0], label=labels[0])\n",
    "    lin_high_a.ticklabel_format(useOffset=False)\n",
    "    lin_high_b = sns.histplot(lowindiff.iloc[500*i:500*(i+1)]['lin_sw_b'], color='#265981', ax = axs[1], label=labels[1])\n",
    "    lin_high_b.ticklabel_format(useOffset=False)\n",
    "    lin_high_c = sns.histplot(lowindiff.iloc[500*i:500*(i+1)]['lin_sw_c'], color='#80C3CF', ax = axs[2], label=labels[2])\n",
    "    lin_high_c.ticklabel_format(useOffset=False)\n",
    "    lin_high_c.set(xlabel=f'Linear Welfare (Configuration {i+1})')\n",
    "    for i,ax in enumerate(axs):\n",
    "        axs[i].legend(loc=\"upper right\")\n",
    "    plt.tight_layout()\n",
    "    lin_high_a.set_title('Low Indifference, 500 Matchings\\n(N=1500, M=10)')"
   ]
  },
  {
   "cell_type": "markdown",
   "metadata": {},
   "source": [
    "Now, do the same for quadratic welfare."
   ]
  },
  {
   "cell_type": "code",
   "execution_count": null,
   "metadata": {},
   "outputs": [],
   "source": [
    "labels = ['Mechanism A', 'Mechanism B', 'Mechanism C']\n",
    "colors = ['#A9A9A9', '#265981', '#80C3CF']\n",
    "for i in range(5):\n",
    "    fig, axs = plt.subplots(nrows=3, figsize=(6,7), sharex=True)\n",
    "    quad_high_a = sns.histplot(highindiff.iloc[500*i:500*(i+1)]['quad_sw_a'], color='#A9A9A9', kde=True, ax = axs[0], label=labels[0])\n",
    "    quad_high_a.ticklabel_format(useOffset=False)\n",
    "    quad_high_b = sns.histplot(highindiff.iloc[500*i:500*(i+1)]['quad_sw_b'], color='#265981', kde=True, ax = axs[1], label=labels[1])\n",
    "    quad_high_b.ticklabel_format(useOffset=False)\n",
    "    quad_high_c = sns.histplot(highindiff.iloc[500*i:500*(i+1)]['quad_sw_c'], color='#80C3CF', kde=True, ax = axs[2], label=labels[2])\n",
    "    quad_high_c.ticklabel_format(useOffset=False)\n",
    "    quad_high_c.set(xlabel=f'Quadratic Welfare (Configuration {i+1})')\n",
    "    for i,ax in enumerate(axs):\n",
    "        axs[i].legend(loc=\"upper right\")\n",
    "    plt.tight_layout()\n",
    "    quad_high_a.set_title('High Indifference, 500 Matchings\\n(N=1500, M=10)')\n"
   ]
  },
  {
   "cell_type": "code",
   "execution_count": null,
   "metadata": {},
   "outputs": [],
   "source": [
    "labels = ['Mechanism A', 'Mechanism B', 'Mechanism C']\n",
    "colors = ['#A9A9A9', '#265981', '#80C3CF']\n",
    "for i in range(5):\n",
    "    fig, axs = plt.subplots(nrows=3, figsize=(6,7), sharex=True)\n",
    "    quad_high_a = sns.histplot(medindiff.iloc[500*i:500*(i+1)]['quad_sw_a'], color='#A9A9A9', ax = axs[0], label=labels[0])\n",
    "    quad_high_a.ticklabel_format(useOffset=False)\n",
    "    quad_high_b = sns.histplot(medindiff.iloc[500*i:500*(i+1)]['quad_sw_b'], color='#265981', ax = axs[1], label=labels[1])\n",
    "    quad_high_b.ticklabel_format(useOffset=False)\n",
    "    quad_high_c = sns.histplot(medindiff.iloc[500*i:500*(i+1)]['quad_sw_c'], color='#80C3CF', ax = axs[2], label=labels[2])\n",
    "    quad_high_c.ticklabel_format(useOffset=False)\n",
    "    quad_high_c.set(xlabel=f'Quadratic Welfare (Configuration {i+1})')\n",
    "    for i,ax in enumerate(axs):\n",
    "        axs[i].legend(loc=\"upper right\")\n",
    "    plt.tight_layout()\n",
    "    quad_high_a.set_title('Medium Indifference, 500 Matchings\\n(N=1500, M=10)')\n"
   ]
  },
  {
   "cell_type": "code",
   "execution_count": null,
   "metadata": {},
   "outputs": [],
   "source": [
    "labels = ['Mechanism A', 'Mechanism B', 'Mechanism C']\n",
    "colors = ['#A9A9A9', '#265981', '#80C3CF']\n",
    "for i in range(5):\n",
    "    fig, axs = plt.subplots(nrows=3, figsize=(6,7), sharex=True)\n",
    "    quad_high_a = sns.histplot(lowindiff.iloc[500*i:500*(i+1)]['quad_sw_a'], color='#A9A9A9', ax = axs[0], label=labels[0])\n",
    "    quad_high_a.ticklabel_format(useOffset=False)\n",
    "    quad_high_b = sns.histplot(lowindiff.iloc[500*i:500*(i+1)]['quad_sw_b'], color='#265981', ax = axs[1], label=labels[1])\n",
    "    quad_high_b.ticklabel_format(useOffset=False)\n",
    "    quad_high_c = sns.histplot(lowindiff.iloc[500*i:500*(i+1)]['quad_sw_c'], color='#80C3CF', ax = axs[2], label=labels[2])\n",
    "    quad_high_c.ticklabel_format(useOffset=False)\n",
    "    quad_high_c.set(xlabel=f'Quadratic Welfare (Configuration {i+1})')\n",
    "    for i,ax in enumerate(axs):\n",
    "        axs[i].legend(loc=\"upper right\")\n",
    "    plt.tight_layout()\n",
    "    quad_high_a.set_title('Low Indifference, 500 Matchings\\n(N=1500, M=10)')"
   ]
  },
  {
   "cell_type": "markdown",
   "metadata": {},
   "source": [
    "Now we try some simulations. We set the variables of our simulation, including how many students and dorms we want."
   ]
  },
  {
   "cell_type": "code",
   "execution_count": null,
   "metadata": {},
   "outputs": [],
   "source": [
    "S = 100\n",
    "D = 10"
   ]
  },
  {
   "cell_type": "markdown",
   "metadata": {},
   "source": [
    "Now, try out the first proposed mechanism: force preferences + student optimal daa. "
   ]
  },
  {
   "cell_type": "code",
   "execution_count": null,
   "metadata": {},
   "outputs": [],
   "source": [
    "students = [Student(id = 's' + str(i)) for i in range(1,S+1)]\n",
    "dorms = [Dorm(id = 'd' + str(i)) for i in range(1,D+1)]\n",
    "\n",
    "for d in dorms:\n",
    "    d.set_quota(math.ceil(S/D)) # we want every school to be the same -- don't vary\n",
    "    d.draw_preferences(students, indiff_score=0.2)\n",
    "    d.force_preferences()\n",
    "\n",
    "for s in students:\n",
    "    s.draw_preferences(dorms)"
   ]
  },
  {
   "cell_type": "markdown",
   "metadata": {},
   "source": [
    "Now that we have set up out dorms and students, we will actualize our stable matching mechanism."
   ]
  },
  {
   "cell_type": "code",
   "execution_count": null,
   "metadata": {},
   "outputs": [],
   "source": [
    "linutils_a = []\n",
    "quadutils_a = []\n",
    "stabs_a = []\n",
    "\n",
    "linutils_b = []\n",
    "quadutils_b = []\n",
    "stabs_b = []\n",
    "\n",
    "linutils_c = []\n",
    "quadutils_c = []\n",
    "stabs_c = []\n",
    "\n",
    "for _ in range(1):\n",
    "    for d in dorms:\n",
    "        # d.set_quota(math.ceil(S/D)) # we want every school to be the same -- don't vary\n",
    "        # d.draw_preferences(students, indiff_score=0.8)\n",
    "        d.force_preferences()\n",
    "    print(\"done\")\n",
    "\n",
    "    # for s in students:\n",
    "    #     s.draw_preferences(dorms)\n",
    "        \n",
    "    matching = mecha(students, dorms, verbose=False, clear=True)\n",
    "    # print(sum(overall_utility(students)))\n",
    "    linutils_a.append(linear_swf(overall_utility(students),D)[0])\n",
    "    quadutils_a.append(quadratic_swf(overall_utility(students),D)[0])\n",
    "    # print(check_stability(students, dorms))\n",
    "    # stabs_a.append(check_stability(students, dorms))\n",
    "    print(\"mecha\")\n",
    "\n",
    "    matching = mechb(students, dorms, verbose=False, clear=True)\n",
    "    # print(sum(overall_utility(students)))\n",
    "    linutils_b.append(linear_swf(overall_utility(students),D)[0])\n",
    "    quadutils_b.append(quadratic_swf(overall_utility(students),D)[0])\n",
    "    # print(check_stability(students, dorms))\n",
    "    # stabs_b.append(check_stability(students, dorms))\n",
    "    print(\"mechb\")\n",
    "\n",
    "    matching = mechc(students, dorms, verbose=False, clear=True)\n",
    "    # print(sum(overall_utility(students)))\n",
    "    linutils_c.append(linear_swf(overall_utility(students),D)[0])\n",
    "    quadutils_c.append(quadratic_swf(overall_utility(students),D)[0])\n",
    "    # print(check_stability(students, dorms))\n",
    "    # stabs_c.append(check_stability(students, dorms))\n",
    "    print(\"mechc\")    \n",
    "\n",
    "# print(utils_a)\n",
    "# print(utils_b)\n",
    "# print(utils_c)\n",
    "# print(stabs_a)\n",
    "# print()\n",
    "# print(stabs_b)\n",
    "# print()\n",
    "# print(stabs_c)"
   ]
  },
  {
   "cell_type": "code",
   "execution_count": null,
   "metadata": {},
   "outputs": [],
   "source": [
    "plt.hist(linutils_a)\n",
    "plt.show()\n",
    "\n",
    "plt.hist(linutils_b)\n",
    "plt.show()\n",
    "\n",
    "plt.hist(linutils_c)\n",
    "plt.show()\n",
    "\n",
    "print(np.mean(linutils_a))\n",
    "print(np.mean(linutils_b))\n",
    "print(np.mean(linutils_c))"
   ]
  },
  {
   "cell_type": "code",
   "execution_count": null,
   "metadata": {},
   "outputs": [],
   "source": [
    "plt.hist(quadutils_a)\n",
    "plt.show()\n",
    "\n",
    "plt.hist(quadutils_b)\n",
    "plt.show()\n",
    "\n",
    "plt.hist(quadutils_c)\n",
    "plt.show()\n",
    "\n",
    "print(np.mean(quadutils_a))\n",
    "print(np.mean(quadutils_b))\n",
    "print(np.mean(quadutils_c))"
   ]
  },
  {
   "cell_type": "code",
   "execution_count": null,
   "metadata": {},
   "outputs": [],
   "source": [
    "print(np.max(quadutils_a), np.max(quadutils_b), np.max(quadutils_c))\n"
   ]
  },
  {
   "cell_type": "code",
   "execution_count": null,
   "metadata": {},
   "outputs": [],
   "source": [
    "matching_id = {}\n",
    "sum = 0\n",
    "for key, val in matching.items():\n",
    "    matching_id[key.id] = [v.id for v in val]\n",
    "    s += len(val)\n",
    "print(matching_id)\n",
    "# print(sum)"
   ]
  },
  {
   "cell_type": "markdown",
   "metadata": {},
   "source": [
    "Stability testing here. All mechanisms should be stable."
   ]
  },
  {
   "cell_type": "code",
   "execution_count": null,
   "metadata": {},
   "outputs": [],
   "source": [
    "# (d6, s96) are blocked by (s19, d1)\n",
    "print([s.id if not type(s) is list else [i.id for i in s] for s in dorms[1].prefs])\n",
    "print()\n",
    "print([s.id if not type(s) is list else [i.id for i in s] for s in students[87].prefs])\n",
    "\n",
    "#d6 prefers s19 to s96 and s19 prefers d6 to d1, so (d6, s19) is blocking pair\n",
    "print(dorms[5].compare(students[95],students[18],False))\n",
    "print(students[18].compare(dorms[5],dorms[0]))\n",
    "print(students[18].matched.id)"
   ]
  }
 ],
 "metadata": {
  "interpreter": {
   "hash": "aee8b7b246df8f9039afb4144a1f6fd8d2ca17a180786b69acc140d282b71a49"
  },
  "kernelspec": {
   "display_name": "Python 3.9.9 64-bit",
   "language": "python",
   "name": "python3"
  },
  "language_info": {
   "codemirror_mode": {
    "name": "ipython",
    "version": 3
   },
   "file_extension": ".py",
   "mimetype": "text/x-python",
   "name": "python",
   "nbconvert_exporter": "python",
   "pygments_lexer": "ipython3",
   "version": "3.9.9"
  },
  "orig_nbformat": 4
 },
 "nbformat": 4,
 "nbformat_minor": 2
}
